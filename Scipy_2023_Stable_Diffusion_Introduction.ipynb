{
  "nbformat": 4,
  "nbformat_minor": 0,
  "metadata": {
    "colab": {
      "provenance": [],
      "private_outputs": true,
      "gpuType": "T4"
    },
    "kernelspec": {
      "name": "python3",
      "display_name": "Python 3"
    },
    "language_info": {
      "name": "python"
    },
    "accelerator": "GPU"
  },
  "cells": [
    {
      "cell_type": "markdown",
      "source": [
        "#Setup"
      ],
      "metadata": {
        "id": "Bu2zIWDjtIo2"
      }
    },
    {
      "cell_type": "code",
      "execution_count": null,
      "metadata": {
        "id": "kW0BrKoonBOG"
      },
      "outputs": [],
      "source": [
        "!pip install -q git+https://github.com/keras-team/keras-cv.git"
      ]
    },
    {
      "cell_type": "code",
      "source": [
        "import time\n",
        "import keras_cv\n",
        "from tensorflow import keras\n",
        "import matplotlib.pyplot as plt\n",
        "import tensorflow as tf\n",
        "from PIL import Image\n",
        "from IPython.display import Image as IImage"
      ],
      "metadata": {
        "id": "rpnC3KIHs4Hd"
      },
      "execution_count": null,
      "outputs": []
    },
    {
      "cell_type": "markdown",
      "source": [
        "#Utility Functions"
      ],
      "metadata": {
        "id": "w95tNiAqtL0U"
      }
    },
    {
      "cell_type": "code",
      "source": [
        "def plot_images(images):\n",
        "    plt.figure(figsize=(20, 20))\n",
        "    for i in range(len(images)):\n",
        "        ax = plt.subplot(1, len(images), i + 1)\n",
        "        plt.imshow(images[i])\n",
        "        plt.axis(\"off\")\n",
        "\n",
        "def export_as_gif(filename, images, frames_per_second=10, rubber_band=False):\n",
        "    if rubber_band:\n",
        "        images += images[2:-1][::-1]\n",
        "    images[0].save(\n",
        "        filename,\n",
        "        save_all=True,\n",
        "        append_images=images[1:],\n",
        "        duration=1000 // frames_per_second,\n",
        "        loop=0,\n",
        "    )"
      ],
      "metadata": {
        "id": "YBiao9MUtEtA"
      },
      "execution_count": null,
      "outputs": []
    },
    {
      "cell_type": "markdown",
      "source": [
        "#Stable Diffusion model"
      ],
      "metadata": {
        "id": "I9xCzEuQxFrU"
      }
    },
    {
      "cell_type": "code",
      "source": [
        "model = keras_cv.models.StableDiffusion(img_width=512, img_height=512)"
      ],
      "metadata": {
        "id": "M-16pgb1s9Dd"
      },
      "execution_count": null,
      "outputs": []
    },
    {
      "cell_type": "markdown",
      "source": [
        "Lets try a simple prompt"
      ],
      "metadata": {
        "id": "pGP-Z5IgyIAG"
      }
    },
    {
      "cell_type": "code",
      "source": [
        "images = model.text_to_image(\"photograph of an astronaut riding a horse\", batch_size=3)\n",
        "\n",
        "plot_images(images)"
      ],
      "metadata": {
        "id": "m-QEUQS6tAJO"
      },
      "execution_count": null,
      "outputs": []
    },
    {
      "cell_type": "markdown",
      "source": [
        "Try out a more complex prompt"
      ],
      "metadata": {
        "id": "rkCvedDsyFh0"
      }
    },
    {
      "cell_type": "code",
      "source": [
        "images = model.text_to_image(\n",
        "    \"your detailed prompt here \"\n",
        "    \"your detailed prompt here \"\n",
        "    \"your detailed prompt here \",\n",
        "    batch_size=3,\n",
        ")\n",
        "plot_images(images)"
      ],
      "metadata": {
        "id": "O0I4Sumiwot-"
      },
      "execution_count": null,
      "outputs": []
    },
    {
      "cell_type": "markdown",
      "source": [
        "#Improve performance of the model"
      ],
      "metadata": {
        "id": "_WKuB8LXxJs0"
      }
    },
    {
      "cell_type": "markdown",
      "source": [
        "##Standard model"
      ],
      "metadata": {
        "id": "4aNjLha-xZsr"
      }
    },
    {
      "cell_type": "code",
      "source": [
        "start = time.time()\n",
        "images = model.text_to_image(\n",
        "    \"A cute otter in a rainbow whirlpool holding shells, watercolor\",\n",
        "    batch_size=3,\n",
        ")\n",
        "end = time.time()\n",
        "plot_images(images)\n",
        "\n",
        "print(f\"Standard model: {(end - start):.2f} seconds\")\n",
        "keras.backend.clear_session()  # Clear session to preserve memory."
      ],
      "metadata": {
        "id": "UU7c9TR6xUsL"
      },
      "execution_count": null,
      "outputs": []
    },
    {
      "cell_type": "markdown",
      "source": [
        "## With Mixed precision"
      ],
      "metadata": {
        "id": "hOjNxef6xdlg"
      }
    },
    {
      "cell_type": "code",
      "source": [
        "keras.mixed_precision.set_global_policy(\"mixed_float16\")"
      ],
      "metadata": {
        "id": "HX4xln_mxhYv"
      },
      "execution_count": null,
      "outputs": []
    },
    {
      "cell_type": "code",
      "source": [
        "# Warm up model to run graph tracing before benchmarking.\n",
        "model.text_to_image(\"warming up the model\", batch_size=3)"
      ],
      "metadata": {
        "id": "xerpw69ryoBp"
      },
      "execution_count": null,
      "outputs": []
    },
    {
      "cell_type": "markdown",
      "source": [
        "Try and check out the performance for yourself after enabeling mixed precision"
      ],
      "metadata": {
        "id": "aytsZDgKyo42"
      }
    },
    {
      "cell_type": "code",
      "source": [
        "# your code here"
      ],
      "metadata": {
        "id": "ZMa3pglYy0sr"
      },
      "execution_count": null,
      "outputs": []
    },
    {
      "cell_type": "markdown",
      "source": [
        "## With XLA compilation\n",
        "TensorFlow comes with the XLA: Accelerated Linear Algebra compiler built-in. keras_cv.models.StableDiffusion supports a jit_compile argument out of the box. Setting this argument to True enables XLA compilation, resulting in a significant speed-up.\n",
        "\n",
        "Let's use this below:"
      ],
      "metadata": {
        "id": "GLMofLumy5fw"
      }
    },
    {
      "cell_type": "code",
      "source": [
        "model = keras_cv.models.StableDiffusion(jit_compile=True)\n",
        "# Before we benchmark the model, we run inference once to make sure the TensorFlow\n",
        "# graph has already been traced.\n",
        "images = model.text_to_image(\"An avocado armchair\", batch_size=3)\n",
        "plot_images(images)"
      ],
      "metadata": {
        "id": "OpjEymnkzHN_"
      },
      "execution_count": null,
      "outputs": []
    },
    {
      "cell_type": "markdown",
      "source": [
        "Try and check out the performance for yourself after enabeling XLA compilation"
      ],
      "metadata": {
        "id": "nV_1RKovzSOL"
      }
    },
    {
      "cell_type": "code",
      "source": [
        "# your code here"
      ],
      "metadata": {
        "id": "avQDJqD9zZSW"
      },
      "execution_count": null,
      "outputs": []
    },
    {
      "cell_type": "markdown",
      "source": [
        "## Try them together\n",
        "test out your model with both mixed precision and XLA compilation"
      ],
      "metadata": {
        "id": "-Hwvaan5zuEx"
      }
    },
    {
      "cell_type": "code",
      "source": [
        "# your code here"
      ],
      "metadata": {
        "id": "Q4K0KvpPz5bO"
      },
      "execution_count": null,
      "outputs": []
    },
    {
      "cell_type": "markdown",
      "source": [
        "# A walk through latent space with Stable Diffusion"
      ],
      "metadata": {
        "id": "yUwneYQ80AUl"
      }
    },
    {
      "cell_type": "markdown",
      "source": [
        "## Interpolating between text prompts"
      ],
      "metadata": {
        "id": "qZuZesUs2yF8"
      }
    },
    {
      "cell_type": "code",
      "source": [
        "prompt_1 = \"A watercolor painting of a Golden Retriever at the beach\"\n",
        "prompt_2 = \"A still life DSLR photo of a bowl of fruit\"\n",
        "interpolation_steps = 5\n",
        "\n",
        "encoding_1 = tf.squeeze(model.encode_text(prompt_1))\n",
        "encoding_2 = tf.squeeze(model.encode_text(prompt_2))\n",
        "\n",
        "interpolated_encodings = tf.linspace(encoding_1, encoding_2, interpolation_steps)\n",
        "\n",
        "# Show the size of the latent manifold\n",
        "print(f\"Encoding shape: {encoding_1.shape}\")"
      ],
      "metadata": {
        "id": "hPPAxvBe0H6Z"
      },
      "execution_count": null,
      "outputs": []
    },
    {
      "cell_type": "code",
      "source": [
        "seed = 12345\n",
        "noise = tf.random.normal((512 // 8, 512 // 8, 4), seed=seed)\n",
        "\n",
        "images = model.generate_image(\n",
        "    interpolated_encodings,\n",
        "    batch_size=interpolation_steps,\n",
        "    diffusion_noise=noise,\n",
        ")"
      ],
      "metadata": {
        "id": "NGm3fC9F3NMn"
      },
      "execution_count": null,
      "outputs": []
    },
    {
      "cell_type": "code",
      "source": [
        "export_as_gif(\n",
        "    \"doggo-and-fruit-5.gif\",\n",
        "    [Image.fromarray(img) for img in images],\n",
        "    frames_per_second=2,\n",
        "    rubber_band=True,\n",
        ")\n",
        "IImage(\"doggo-and-fruit-5.gif\")"
      ],
      "metadata": {
        "id": "dYw2Jb6I4654"
      },
      "execution_count": null,
      "outputs": []
    },
    {
      "cell_type": "markdown",
      "source": [
        "## Try out more fine-grained interpolation, using hundreds of steps"
      ],
      "metadata": {
        "id": "KDpKgTju7ruk"
      }
    },
    {
      "cell_type": "code",
      "source": [
        "# your code here"
      ],
      "metadata": {
        "id": "Tw63K69D7wo2"
      },
      "execution_count": null,
      "outputs": []
    },
    {
      "cell_type": "markdown",
      "source": [
        "## Break Task [optional] : Implement Interpolation for 4 prompts"
      ],
      "metadata": {
        "id": "NGQS2_lj7zE8"
      }
    },
    {
      "cell_type": "code",
      "source": [
        "# your code here"
      ],
      "metadata": {
        "id": "CkcZEUGZ74oD"
      },
      "execution_count": null,
      "outputs": []
    }
  ]
}