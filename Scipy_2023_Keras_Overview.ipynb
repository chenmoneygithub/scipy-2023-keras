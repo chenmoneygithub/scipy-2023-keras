{
  "nbformat": 4,
  "nbformat_minor": 0,
  "metadata": {
    "colab": {
      "provenance": []
    },
    "kernelspec": {
      "name": "python3",
      "display_name": "Python 3"
    },
    "language_info": {
      "name": "python"
    }
  },
  "cells": [
    {
      "cell_type": "code",
      "execution_count": null,
      "metadata": {
        "id": "teaA2OWwcC11"
      },
      "outputs": [],
      "source": [
        "import tensorflow as tf\n",
        "from tensorflow import keras\n",
        "\n",
        "import numpy as np"
      ]
    },
    {
      "cell_type": "markdown",
      "source": [
        "## Use a Keras layer"
      ],
      "metadata": {
        "id": "uxoE1VfeqDqt"
      }
    },
    {
      "cell_type": "code",
      "source": [
        "layer = keras.layers.Dense(\n",
        "    2,\n",
        "    activation=\"relu\",\n",
        "    bias_initializer=\"zeros\",\n",
        ")\n",
        "layer(x)"
      ],
      "metadata": {
        "id": "9Hr1SC7_qCCb"
      },
      "execution_count": null,
      "outputs": []
    },
    {
      "cell_type": "markdown",
      "source": [
        "## Write your custom layer"
      ],
      "metadata": {
        "id": "oUrKVLhDp4dr"
      }
    },
    {
      "cell_type": "code",
      "source": [
        "class Linear(keras.layers.Layer):\n",
        "    def __init__(self, units):\n",
        "        super().__init__()\n",
        "        self.units = units\n",
        "\n",
        "    def build(self, input_shape):\n",
        "        input_dim = input_shape[-1]\n",
        "        self.w = self.add_weight(\n",
        "            shape=[input_dim, self.units], initializer=\"glorot_uniform\",\n",
        "        )\n",
        "        self.b = self.add_weight(\n",
        "            shape=[self.units,], initializer=\"zeros\"\n",
        "        )\n",
        "\n",
        "    def call(self, inputs):\n",
        "        return tf.matmul(inputs, self.w) + self.b\n"
      ],
      "metadata": {
        "id": "pqQnEhlRp3Un"
      },
      "execution_count": null,
      "outputs": []
    },
    {
      "cell_type": "markdown",
      "source": [
        "# Different ways of building the model\n",
        "\n",
        "- Sequential API\n",
        "- [**Preferred**] Functional API\n",
        "- Subclassing model"
      ],
      "metadata": {
        "id": "GCak-uoIZ9mF"
      }
    },
    {
      "cell_type": "code",
      "source": [
        "# Sequential model\n",
        "sequential_model = keras.Sequential([\n",
        "    keras.Input([28, 28, 3]),\n",
        "    keras.layers.Conv2D(8, 2),\n",
        "    keras.layers.MaxPool2D(2),\n",
        "    keras.layers.Flatten(),\n",
        "    keras.layers.Dense(2),\n",
        "    keras.layers.Softmax(),\n",
        "])\n",
        "\n",
        "print(sequential_model.summary())"
      ],
      "metadata": {
        "id": "aHi5uYp2dzTU",
        "colab": {
          "base_uri": "https://localhost:8080/"
        },
        "outputId": "6bbed456-02d4-4157-d2be-e6155dd76252"
      },
      "execution_count": null,
      "outputs": [
        {
          "output_type": "stream",
          "name": "stdout",
          "text": [
            "Model: \"sequential_1\"\n",
            "_________________________________________________________________\n",
            " Layer (type)                Output Shape              Param #   \n",
            "=================================================================\n",
            " conv2d_3 (Conv2D)           (None, 27, 27, 8)         104       \n",
            "                                                                 \n",
            " max_pooling2d_3 (MaxPooling  (None, 13, 13, 8)        0         \n",
            " 2D)                                                             \n",
            "                                                                 \n",
            " flatten_3 (Flatten)         (None, 1352)              0         \n",
            "                                                                 \n",
            " dense_3 (Dense)             (None, 2)                 2706      \n",
            "                                                                 \n",
            " softmax_3 (Softmax)         (None, 2)                 0         \n",
            "                                                                 \n",
            "=================================================================\n",
            "Total params: 2,810\n",
            "Trainable params: 2,810\n",
            "Non-trainable params: 0\n",
            "_________________________________________________________________\n",
            "None\n"
          ]
        }
      ]
    },
    {
      "cell_type": "code",
      "source": [
        "# Functional model\n",
        "inputs = keras.Input([28, 28, 3])\n",
        "x = keras.layers.Conv2D(8, 2)(inputs)\n",
        "x = keras.layers.MaxPool2D(2)(x)\n",
        "x = keras.layers.Flatten()(x)\n",
        "x = keras.layers.Dense(2)(x)\n",
        "outputs = keras.layers.Softmax()(x)\n",
        "\n",
        "functional_model = keras.Model(inputs=inputs, outputs=outputs)\n",
        "print(functional_model.summary())"
      ],
      "metadata": {
        "colab": {
          "base_uri": "https://localhost:8080/"
        },
        "id": "OyzW5tLVaTSS",
        "outputId": "7a3f04ed-5456-4855-e80e-2f0e0dd180f9"
      },
      "execution_count": null,
      "outputs": [
        {
          "output_type": "stream",
          "name": "stdout",
          "text": [
            "Model: \"model_2\"\n",
            "_________________________________________________________________\n",
            " Layer (type)                Output Shape              Param #   \n",
            "=================================================================\n",
            " input_6 (InputLayer)        [(None, 28, 28, 3)]       0         \n",
            "                                                                 \n",
            " conv2d_4 (Conv2D)           (None, 27, 27, 8)         104       \n",
            "                                                                 \n",
            " max_pooling2d_4 (MaxPooling  (None, 13, 13, 8)        0         \n",
            " 2D)                                                             \n",
            "                                                                 \n",
            " flatten_4 (Flatten)         (None, 1352)              0         \n",
            "                                                                 \n",
            " dense_4 (Dense)             (None, 2)                 2706      \n",
            "                                                                 \n",
            " softmax_4 (Softmax)         (None, 2)                 0         \n",
            "                                                                 \n",
            "=================================================================\n",
            "Total params: 2,810\n",
            "Trainable params: 2,810\n",
            "Non-trainable params: 0\n",
            "_________________________________________________________________\n",
            "None\n"
          ]
        }
      ]
    },
    {
      "cell_type": "code",
      "source": [
        "# Subclassing `keras.Model`\n",
        "\n",
        "class MyModel(keras.Model):\n",
        "    def __init__(self, *args, **kwargs):\n",
        "        super().__init__(*args, **kwargs)\n",
        "        self._conv = keras.layers.Conv2D(8, 2)\n",
        "        self._max_pool = keras.layers.MaxPool2D(2)\n",
        "        self._flatten = keras.layers.Flatten()\n",
        "        self._dense = keras.layers.Dense(2)\n",
        "        self._softmax = keras.layers.Softmax()\n",
        "\n",
        "    def call(self, inputs):\n",
        "        x = self._conv(inputs)\n",
        "        x = self._max_pool(x)\n",
        "        x = self._flatten(x)\n",
        "        x = self._dense(x)\n",
        "        return self._softmax(x)\n",
        "\n",
        "subclass_model = MyModel()\n",
        "subclass_model.build([None, 28, 28, 3])\n",
        "subclass_model.summary()"
      ],
      "metadata": {
        "id": "6iOMg3Tcb8XY"
      },
      "execution_count": null,
      "outputs": []
    },
    {
      "cell_type": "markdown",
      "source": [
        "# Models are callable.\n",
        "\n",
        "`keras.Model` instances are also callable. You can call models as if it is a function, no matter which way you used to build the model."
      ],
      "metadata": {
        "id": "CSUCRx4AeJpX"
      }
    },
    {
      "cell_type": "code",
      "source": [
        "sample_data = tf.random.uniform([1, 28, 28, 3])\n",
        "\n",
        "print(sequential_model(sample_data))\n",
        "print(functional_model(sample_data))\n",
        "print(subclass_model(sample_data))"
      ],
      "metadata": {
        "colab": {
          "base_uri": "https://localhost:8080/"
        },
        "id": "xrSUYmLmdEMY",
        "outputId": "4ea1293f-ce1c-4325-968b-b431ff586502"
      },
      "execution_count": null,
      "outputs": [
        {
          "output_type": "stream",
          "name": "stdout",
          "text": [
            "tf.Tensor([[0.65723634 0.34276363]], shape=(1, 2), dtype=float32)\n",
            "tf.Tensor([[0.2294048  0.77059513]], shape=(1, 2), dtype=float32)\n",
            "tf.Tensor([[0.5731103 0.4268897]], shape=(1, 2), dtype=float32)\n"
          ]
        }
      ]
    },
    {
      "cell_type": "code",
      "source": [
        "variable_names = [v.name for v in functional_model.trainable_variables]\n",
        "print(\"\\n\".join(variable_names))"
      ],
      "metadata": {
        "colab": {
          "base_uri": "https://localhost:8080/"
        },
        "id": "XECOI3N5Yoc_",
        "outputId": "ab57d249-c5d9-48ac-aeda-5dc1b30ac510"
      },
      "execution_count": null,
      "outputs": [
        {
          "output_type": "stream",
          "name": "stdout",
          "text": [
            "conv2d/kernel:0\n",
            "conv2d/bias:0\n",
            "dense/kernel:0\n",
            "dense/bias:0\n"
          ]
        }
      ]
    },
    {
      "cell_type": "markdown",
      "source": [
        "# Train the model\n",
        "\n",
        "Now we have defined the model. For actual training, we need the following pieces:\n",
        "- Data\n",
        "- Loss/Target function\n",
        "- Optimizer"
      ],
      "metadata": {
        "id": "gXTs6X2kkXlv"
      }
    },
    {
      "cell_type": "code",
      "source": [
        "# Prepare data for a 2-class classification.\n",
        "data = tf.random.uniform([20, 28, 28, 3])\n",
        "label = tf.convert_to_tensor(np.random.randint(2, size=20))"
      ],
      "metadata": {
        "id": "4s-Qwy_zaPWv"
      },
      "execution_count": null,
      "outputs": []
    },
    {
      "cell_type": "code",
      "source": [
        "# Let's use functional model defined above.\n",
        "model = functional_model"
      ],
      "metadata": {
        "id": "-21fQfuImGLo"
      },
      "execution_count": null,
      "outputs": []
    },
    {
      "cell_type": "code",
      "source": [
        "model.compile(\n",
        "    loss=keras.losses.SparseCategoricalCrossentropy(),\n",
        "    optimizer=keras.optimizers.Adam(0.001),\n",
        "    metrics=[keras.metrics.SparseCategoricalAccuracy()],\n",
        ")"
      ],
      "metadata": {
        "id": "ViHsKZTseb3o"
      },
      "execution_count": null,
      "outputs": []
    },
    {
      "cell_type": "code",
      "source": [
        "model.fit(\n",
        "    data,\n",
        "    label,\n",
        "    batch_size=5,\n",
        "    epochs=2,\n",
        ")"
      ],
      "metadata": {
        "colab": {
          "base_uri": "https://localhost:8080/"
        },
        "id": "6_C4RzLKewCT",
        "outputId": "5dcf830d-969f-4d9b-b5b1-acd1fd042236"
      },
      "execution_count": null,
      "outputs": [
        {
          "output_type": "stream",
          "name": "stdout",
          "text": [
            "Epoch 1/2\n",
            "4/4 [==============================] - 1s 5ms/step - loss: 0.7464 - sparse_categorical_accuracy: 0.4000\n",
            "Epoch 2/2\n",
            "4/4 [==============================] - 0s 5ms/step - loss: 0.7288 - sparse_categorical_accuracy: 0.5500\n"
          ]
        },
        {
          "output_type": "execute_result",
          "data": {
            "text/plain": [
              "<keras.callbacks.History at 0x7f4016a926b0>"
            ]
          },
          "metadata": {},
          "execution_count": 37
        }
      ]
    },
    {
      "cell_type": "markdown",
      "source": [
        "# Eager mode and graph mode\n",
        "\n",
        "Debug in eager mode, put actual job in graph mode."
      ],
      "metadata": {
        "id": "d0D7V9h-oSqK"
      }
    },
    {
      "cell_type": "code",
      "source": [
        "# Eager mode\n",
        "print(model(data[0:1, ...]))\n",
        "\n",
        "# Graph mode\n",
        "print(model.predict(data[0:1, ...]))"
      ],
      "metadata": {
        "colab": {
          "base_uri": "https://localhost:8080/"
        },
        "id": "tSp5y8TzoIYv",
        "outputId": "31934138-7c22-49ad-b69e-b6c70315fc31"
      },
      "execution_count": null,
      "outputs": [
        {
          "output_type": "stream",
          "name": "stdout",
          "text": [
            "tf.Tensor([[0.293789 0.706211]], shape=(1, 2), dtype=float32)\n",
            "1/1 [==============================] - 0s 25ms/step\n",
            "[[0.293789 0.706211]]\n"
          ]
        }
      ]
    },
    {
      "cell_type": "code",
      "source": [
        "@tf.function(jit_compile=True)\n",
        "def forward_pass(x):\n",
        "    outputs = model(x)\n",
        "    print(outputs)\n",
        "    return outputs\n",
        "\n",
        "print(forward_pass(data[0:1, ...]))"
      ],
      "metadata": {
        "colab": {
          "base_uri": "https://localhost:8080/"
        },
        "id": "ncHMuzdMopLW",
        "outputId": "ef959a0b-df49-4e71-de29-a823a3b923f6"
      },
      "execution_count": null,
      "outputs": [
        {
          "output_type": "stream",
          "name": "stdout",
          "text": [
            "Tensor(\"my_model/softmax_5/Softmax:0\", shape=(1, 2), dtype=float32)\n",
            "tf.Tensor([[0.2937891 0.7062109]], shape=(1, 2), dtype=float32)\n"
          ]
        }
      ]
    },
    {
      "cell_type": "code",
      "source": [
        "# You can also run `fit`, `predict` in eager mode.\n",
        "model.compile(\n",
        "    loss=keras.losses.SparseCategoricalCrossentropy(),\n",
        "    optimizer=keras.optimizers.Adam(0.001),\n",
        "    metrics=[keras.metrics.SparseCategoricalAccuracy()],\n",
        "    run_eagerly=True\n",
        ")\n",
        "\n",
        "# Run `predict` in eager mode by setting `run_eagerly` above.\n",
        "print(model.predict(data[0:1, ...]))"
      ],
      "metadata": {
        "id": "CQmAFyZjpbSX"
      },
      "execution_count": null,
      "outputs": []
    },
    {
      "cell_type": "markdown",
      "source": [
        "# Write your custom training loop\n",
        "\n",
        "We encourage using `fit` for training/finetuning as much as possible, but it's still important to write you custom training loop. For example, if you want to debug the training loop, or have a better control over each step, you can use custom training loop."
      ],
      "metadata": {
        "id": "I4o_GH52o_4u"
      }
    },
    {
      "cell_type": "code",
      "source": [
        "train_data = tf.data.Dataset.from_tensor_slices((data, label))\n",
        "train_data = train_data.batch(5).cache().prefetch(tf.data.AUTOTUNE)"
      ],
      "metadata": {
        "id": "IlNRAxt_opWD"
      },
      "execution_count": null,
      "outputs": []
    },
    {
      "cell_type": "code",
      "source": [
        "loss_fn = keras.losses.SparseCategoricalCrossentropy()\n",
        "optimizer = keras.optimizers.Adam(0.001)\n",
        "metric = keras.metrics.SparseCategoricalAccuracy()"
      ],
      "metadata": {
        "id": "4t6-A2c1szjv"
      },
      "execution_count": null,
      "outputs": []
    },
    {
      "cell_type": "code",
      "source": [
        "@tf.function\n",
        "def train_step(data):\n",
        "    x, y = data\n",
        "    with tf.GradientTape() as tape:\n",
        "        outputs = model(x)\n",
        "        loss = loss_fn(y, outputs)\n",
        "\n",
        "    gradients = tape.gradient(loss, model.trainable_variables)\n",
        "    optimizer.apply_gradients(zip(gradients, model.trainable_variables))\n",
        "    metric.update_state(y, outputs)\n",
        "\n",
        "    return loss\n",
        "\n",
        "\n",
        "for i, data in enumerate(train_data):\n",
        "    loss = train_step(data)\n",
        "    print(f\"Batch {i}, loss: {loss:.3f}, accuracy: {metric.result():.3f}\")"
      ],
      "metadata": {
        "colab": {
          "base_uri": "https://localhost:8080/"
        },
        "id": "3dFK6kNDqGHs",
        "outputId": "d246fc84-8fc4-4990-a10d-832d5d980c29"
      },
      "execution_count": null,
      "outputs": [
        {
          "output_type": "stream",
          "name": "stdout",
          "text": [
            "Batch 0, loss: 0.522, accuracy: 0.800\n",
            "Batch 1, loss: 0.509, accuracy: 0.900\n",
            "Batch 2, loss: 0.761, accuracy: 0.733\n",
            "Batch 3, loss: 0.976, accuracy: 0.600\n"
          ]
        }
      ]
    },
    {
      "cell_type": "markdown",
      "source": [
        "# Save your model."
      ],
      "metadata": {
        "id": "imJB2mZjvSxe"
      }
    },
    {
      "cell_type": "code",
      "source": [
        "# Save the weights.\n",
        "model.save_weights(\"weights\")"
      ],
      "metadata": {
        "id": "_nWYVCaZtpmn"
      },
      "execution_count": null,
      "outputs": []
    },
    {
      "cell_type": "code",
      "source": [
        "subclass_model.load_weights(\"weights\")"
      ],
      "metadata": {
        "colab": {
          "base_uri": "https://localhost:8080/"
        },
        "id": "G_JuNbrkwLi_",
        "outputId": "d9d9ed30-af3e-4b42-b1ff-124aa11aa3b9"
      },
      "execution_count": null,
      "outputs": [
        {
          "output_type": "execute_result",
          "data": {
            "text/plain": [
              "<tensorflow.python.checkpoint.checkpoint.CheckpointLoadStatus at 0x7f4017f05090>"
            ]
          },
          "metadata": {},
          "execution_count": 57
        }
      ]
    },
    {
      "cell_type": "code",
      "source": [
        "tf.reduce_sum(subclass_model._conv.kernel - model.get_layer(\"conv2d_5\").kernel)"
      ],
      "metadata": {
        "colab": {
          "base_uri": "https://localhost:8080/"
        },
        "id": "tCakjIU8wbtt",
        "outputId": "a8b9b909-b2d3-4ca9-c3cd-e433ac1d3772"
      },
      "execution_count": null,
      "outputs": [
        {
          "output_type": "execute_result",
          "data": {
            "text/plain": [
              "<tf.Tensor: shape=(), dtype=float32, numpy=0.0>"
            ]
          },
          "metadata": {},
          "execution_count": 61
        }
      ]
    },
    {
      "cell_type": "markdown",
      "source": [
        "# Use callbacks to control your training\n",
        "\n",
        "`keras.callbacks` provides the ability to control your training loop. For example, you can use callbacks to save your checkpoints at a certain frequency."
      ],
      "metadata": {
        "id": "Gmz0O_YD12Qy"
      }
    },
    {
      "cell_type": "code",
      "source": [
        "!mkdir checkpoints"
      ],
      "metadata": {
        "id": "oQACYlRN2yz6"
      },
      "execution_count": null,
      "outputs": []
    },
    {
      "cell_type": "code",
      "source": [
        "checkpoint_filepath = 'checkpoints/checkpoint'\n",
        "model_checkpoint_callback = keras.callbacks.ModelCheckpoint(\n",
        "    filepath=checkpoint_filepath,\n",
        "    save_weights_only=True,\n",
        "    monitor=\"loss\",\n",
        ")\n",
        "\n",
        "model.fit(\n",
        "    data,\n",
        "    label,\n",
        "    batch_size=5,\n",
        "    epochs=3,\n",
        "    callbacks=[model_checkpoint_callback]\n",
        ")"
      ],
      "metadata": {
        "colab": {
          "base_uri": "https://localhost:8080/"
        },
        "id": "41dEvmFj2Ibi",
        "outputId": "e32f8806-65c5-4568-f7f4-82eb8f8cfd9a"
      },
      "execution_count": null,
      "outputs": [
        {
          "output_type": "stream",
          "name": "stdout",
          "text": [
            "Epoch 1/3\n",
            "1/4 [======>.......................] - ETA: 0s - loss: 0.2408 - sparse_categorical_accuracy: 1.0000\n",
            "Epoch 1: saving model to checkpoints/checkpoint\n",
            "4/4 [==============================] - 0s 12ms/step - loss: 0.2213 - sparse_categorical_accuracy: 1.0000\n",
            "Epoch 2/3\n",
            "1/4 [======>.......................] - ETA: 0s - loss: 0.2299 - sparse_categorical_accuracy: 1.0000\n",
            "Epoch 2: saving model to checkpoints/checkpoint\n",
            "4/4 [==============================] - 0s 11ms/step - loss: 0.2116 - sparse_categorical_accuracy: 1.0000\n",
            "Epoch 3/3\n",
            "1/4 [======>.......................] - ETA: 0s - loss: 0.2026 - sparse_categorical_accuracy: 1.0000\n",
            "Epoch 3: saving model to checkpoints/checkpoint\n",
            "4/4 [==============================] - 0s 14ms/step - loss: 0.1898 - sparse_categorical_accuracy: 1.0000\n"
          ]
        },
        {
          "output_type": "execute_result",
          "data": {
            "text/plain": [
              "<keras.callbacks.History at 0x7f401eea4700>"
            ]
          },
          "metadata": {},
          "execution_count": 73
        }
      ]
    },
    {
      "cell_type": "code",
      "source": [],
      "metadata": {
        "id": "vb_G8X323D_e"
      },
      "execution_count": null,
      "outputs": []
    }
  ]
}