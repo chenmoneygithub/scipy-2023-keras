{
  "nbformat": 4,
  "nbformat_minor": 0,
  "metadata": {
    "colab": {
      "provenance": []
    },
    "kernelspec": {
      "name": "python3",
      "display_name": "Python 3"
    },
    "language_info": {
      "name": "python"
    }
  },
  "cells": [
    {
      "cell_type": "code",
      "execution_count": 1,
      "metadata": {
        "id": "teaA2OWwcC11"
      },
      "outputs": [],
      "source": [
        "import tensorflow as tf\n",
        "from tensorflow import keras\n",
        "\n",
        "import numpy as np"
      ]
    },
    {
      "cell_type": "markdown",
      "source": [
        "## Use a Keras layer"
      ],
      "metadata": {
        "id": "uxoE1VfeqDqt"
      }
    },
    {
      "cell_type": "code",
      "source": [
        "layer = keras.layers.Dense(\n",
        "    2,\n",
        "    activation=\"relu\",\n",
        "    bias_initializer=\"zeros\",\n",
        ")\n",
        "data = tf.random.uniform([3, 3])\n",
        "layer(data)"
      ],
      "metadata": {
        "id": "9Hr1SC7_qCCb",
        "colab": {
          "base_uri": "https://localhost:8080/"
        },
        "outputId": "eea3c529-c438-4180-ed08-bbfe4be054a7"
      },
      "execution_count": 2,
      "outputs": [
        {
          "output_type": "execute_result",
          "data": {
            "text/plain": [
              "<tf.Tensor: shape=(3, 2), dtype=float32, numpy=\n",
              "array([[0.29601812, 0.        ],\n",
              "       [0.14150175, 0.        ],\n",
              "       [0.22652026, 0.29924074]], dtype=float32)>"
            ]
          },
          "metadata": {},
          "execution_count": 2
        }
      ]
    },
    {
      "cell_type": "markdown",
      "source": [
        "## Write your custom layer"
      ],
      "metadata": {
        "id": "oUrKVLhDp4dr"
      }
    },
    {
      "cell_type": "code",
      "source": [
        "class Linear(keras.layers.Layer):\n",
        "    def __init__(self, units):\n",
        "        super().__init__()\n",
        "        self.units = units\n",
        "\n",
        "    def build(self, input_shape):\n",
        "        input_dim = input_shape[-1]\n",
        "        self.w = self.add_weight(\n",
        "            shape=[input_dim, self.units], initializer=\"glorot_uniform\",\n",
        "        )\n",
        "        self.b = self.add_weight(\n",
        "            shape=[self.units,], initializer=\"zeros\"\n",
        "        )\n",
        "\n",
        "    def call(self, inputs):\n",
        "        return tf.matmul(inputs, self.w) + self.b\n",
        "\n",
        "layer = Linear(2)\n",
        "layer(data)"
      ],
      "metadata": {
        "id": "pqQnEhlRp3Un",
        "colab": {
          "base_uri": "https://localhost:8080/"
        },
        "outputId": "b8b68864-8ea8-4387-c2a7-03c2e48859e3"
      },
      "execution_count": 3,
      "outputs": [
        {
          "output_type": "execute_result",
          "data": {
            "text/plain": [
              "<tf.Tensor: shape=(3, 2), dtype=float32, numpy=\n",
              "array([[0.46128497, 0.5139472 ],\n",
              "       [0.85526496, 0.23158368],\n",
              "       [0.6606808 , 0.566612  ]], dtype=float32)>"
            ]
          },
          "metadata": {},
          "execution_count": 3
        }
      ]
    },
    {
      "cell_type": "markdown",
      "source": [
        "# Different ways of building the model\n",
        "\n",
        "- Sequential API\n",
        "- [**Preferred**] Functional API\n",
        "- Subclassing model"
      ],
      "metadata": {
        "id": "GCak-uoIZ9mF"
      }
    },
    {
      "cell_type": "code",
      "source": [
        "# Sequential model\n",
        "sequential_model = keras.Sequential([\n",
        "    keras.Input([28, 28, 3]),\n",
        "    keras.layers.Conv2D(8, 2),\n",
        "    keras.layers.MaxPool2D(2),\n",
        "    keras.layers.Flatten(),\n",
        "    keras.layers.Dense(2),\n",
        "    keras.layers.Softmax(),\n",
        "])\n",
        "\n",
        "print(sequential_model.summary())"
      ],
      "metadata": {
        "id": "aHi5uYp2dzTU",
        "colab": {
          "base_uri": "https://localhost:8080/"
        },
        "outputId": "53d59504-38e5-4c42-fbb1-54fdcc378f79"
      },
      "execution_count": 4,
      "outputs": [
        {
          "output_type": "stream",
          "name": "stdout",
          "text": [
            "Model: \"sequential\"\n",
            "_________________________________________________________________\n",
            " Layer (type)                Output Shape              Param #   \n",
            "=================================================================\n",
            " conv2d (Conv2D)             (None, 27, 27, 8)         104       \n",
            "                                                                 \n",
            " max_pooling2d (MaxPooling2D  (None, 13, 13, 8)        0         \n",
            " )                                                               \n",
            "                                                                 \n",
            " flatten (Flatten)           (None, 1352)              0         \n",
            "                                                                 \n",
            " dense_1 (Dense)             (None, 2)                 2706      \n",
            "                                                                 \n",
            " softmax (Softmax)           (None, 2)                 0         \n",
            "                                                                 \n",
            "=================================================================\n",
            "Total params: 2,810\n",
            "Trainable params: 2,810\n",
            "Non-trainable params: 0\n",
            "_________________________________________________________________\n",
            "None\n"
          ]
        }
      ]
    },
    {
      "cell_type": "code",
      "source": [
        "# Functional model\n",
        "inputs = keras.Input([28, 28, 3])\n",
        "x = keras.layers.Conv2D(8, 2)(inputs)\n",
        "x = keras.layers.MaxPool2D(2)(x)\n",
        "x = keras.layers.Flatten()(x)\n",
        "x = keras.layers.Dense(2)(x)\n",
        "outputs = keras.layers.Softmax()(x)\n",
        "\n",
        "functional_model = keras.Model(inputs=inputs, outputs=outputs)\n",
        "print(functional_model.summary())"
      ],
      "metadata": {
        "colab": {
          "base_uri": "https://localhost:8080/"
        },
        "id": "OyzW5tLVaTSS",
        "outputId": "fdbff1f4-c240-4cb8-bb91-f17888467fd3"
      },
      "execution_count": 5,
      "outputs": [
        {
          "output_type": "stream",
          "name": "stdout",
          "text": [
            "Model: \"model\"\n",
            "_________________________________________________________________\n",
            " Layer (type)                Output Shape              Param #   \n",
            "=================================================================\n",
            " input_2 (InputLayer)        [(None, 28, 28, 3)]       0         \n",
            "                                                                 \n",
            " conv2d_1 (Conv2D)           (None, 27, 27, 8)         104       \n",
            "                                                                 \n",
            " max_pooling2d_1 (MaxPooling  (None, 13, 13, 8)        0         \n",
            " 2D)                                                             \n",
            "                                                                 \n",
            " flatten_1 (Flatten)         (None, 1352)              0         \n",
            "                                                                 \n",
            " dense_2 (Dense)             (None, 2)                 2706      \n",
            "                                                                 \n",
            " softmax_1 (Softmax)         (None, 2)                 0         \n",
            "                                                                 \n",
            "=================================================================\n",
            "Total params: 2,810\n",
            "Trainable params: 2,810\n",
            "Non-trainable params: 0\n",
            "_________________________________________________________________\n",
            "None\n"
          ]
        }
      ]
    },
    {
      "cell_type": "code",
      "source": [
        "# Subclassing `keras.Model`\n",
        "\n",
        "class MyModel(keras.Model):\n",
        "    def __init__(self, *args, **kwargs):\n",
        "        super().__init__(*args, **kwargs)\n",
        "        self._conv = keras.layers.Conv2D(8, 2)\n",
        "        self._max_pool = keras.layers.MaxPool2D(2)\n",
        "        self._flatten = keras.layers.Flatten()\n",
        "        self._dense = keras.layers.Dense(2)\n",
        "        self._softmax = keras.layers.Softmax()\n",
        "\n",
        "    def call(self, inputs):\n",
        "        x = self._conv(inputs)\n",
        "        x = self._max_pool(x)\n",
        "        x = self._flatten(x)\n",
        "        x = self._dense(x)\n",
        "        return self._softmax(x)\n",
        "\n",
        "subclass_model = MyModel()\n",
        "subclass_model.build([None, 28, 28, 3])\n",
        "subclass_model.summary()"
      ],
      "metadata": {
        "id": "6iOMg3Tcb8XY",
        "colab": {
          "base_uri": "https://localhost:8080/"
        },
        "outputId": "6ac286d9-214a-4b11-fe90-224c8586e73a"
      },
      "execution_count": 6,
      "outputs": [
        {
          "output_type": "stream",
          "name": "stdout",
          "text": [
            "Model: \"my_model\"\n",
            "_________________________________________________________________\n",
            " Layer (type)                Output Shape              Param #   \n",
            "=================================================================\n",
            " conv2d_2 (Conv2D)           multiple                  104       \n",
            "                                                                 \n",
            " max_pooling2d_2 (MaxPooling  multiple                 0         \n",
            " 2D)                                                             \n",
            "                                                                 \n",
            " dense_3 (Dense)             multiple                  2706      \n",
            "                                                                 \n",
            " softmax_2 (Softmax)         multiple                  0         \n",
            "                                                                 \n",
            "=================================================================\n",
            "Total params: 2,810\n",
            "Trainable params: 2,810\n",
            "Non-trainable params: 0\n",
            "_________________________________________________________________\n"
          ]
        }
      ]
    },
    {
      "cell_type": "markdown",
      "source": [
        "# Models are callable.\n",
        "\n",
        "`keras.Model` instances are also callable. You can call models as if it is a function, no matter which way you used to build the model."
      ],
      "metadata": {
        "id": "CSUCRx4AeJpX"
      }
    },
    {
      "cell_type": "code",
      "source": [
        "sample_data = tf.random.uniform([1, 28, 28, 3])\n",
        "\n",
        "print(sequential_model(sample_data))\n",
        "print(functional_model(sample_data))\n",
        "print(subclass_model(sample_data))"
      ],
      "metadata": {
        "colab": {
          "base_uri": "https://localhost:8080/"
        },
        "id": "xrSUYmLmdEMY",
        "outputId": "b8fb4fe9-68c7-4178-ad1f-4616effd0a62"
      },
      "execution_count": 7,
      "outputs": [
        {
          "output_type": "stream",
          "name": "stdout",
          "text": [
            "tf.Tensor([[0.1127926 0.8872074]], shape=(1, 2), dtype=float32)\n",
            "tf.Tensor([[0.46518022 0.5348197 ]], shape=(1, 2), dtype=float32)\n",
            "tf.Tensor([[0.48656997 0.51343006]], shape=(1, 2), dtype=float32)\n"
          ]
        }
      ]
    },
    {
      "cell_type": "code",
      "source": [
        "variable_names = [v.name for v in functional_model.trainable_variables]\n",
        "print(\"\\n\".join(variable_names))"
      ],
      "metadata": {
        "colab": {
          "base_uri": "https://localhost:8080/"
        },
        "id": "XECOI3N5Yoc_",
        "outputId": "768f9b84-9f05-4c77-9b1b-336fe7119b89"
      },
      "execution_count": 8,
      "outputs": [
        {
          "output_type": "stream",
          "name": "stdout",
          "text": [
            "conv2d_1/kernel:0\n",
            "conv2d_1/bias:0\n",
            "dense_2/kernel:0\n",
            "dense_2/bias:0\n"
          ]
        }
      ]
    },
    {
      "cell_type": "markdown",
      "source": [
        "## Models can be sliced"
      ],
      "metadata": {
        "id": "amRicWcgbKIa"
      }
    },
    {
      "cell_type": "code",
      "source": [
        "sliced_model = keras.Model(\n",
        "    inputs=functional_model.inputs,\n",
        "    outputs=functional_model.get_layer(\"conv2d_1\").output,\n",
        ")\n",
        "sliced_model.summary()"
      ],
      "metadata": {
        "colab": {
          "base_uri": "https://localhost:8080/"
        },
        "id": "cVHY5rbcbL8-",
        "outputId": "a027fc8c-e13e-43cf-c1b4-6ea6d64f6a95"
      },
      "execution_count": 10,
      "outputs": [
        {
          "output_type": "stream",
          "name": "stdout",
          "text": [
            "Model: \"model_1\"\n",
            "_________________________________________________________________\n",
            " Layer (type)                Output Shape              Param #   \n",
            "=================================================================\n",
            " input_2 (InputLayer)        [(None, 28, 28, 3)]       0         \n",
            "                                                                 \n",
            " conv2d_1 (Conv2D)           (None, 27, 27, 8)         104       \n",
            "                                                                 \n",
            "=================================================================\n",
            "Total params: 104\n",
            "Trainable params: 104\n",
            "Non-trainable params: 0\n",
            "_________________________________________________________________\n"
          ]
        }
      ]
    },
    {
      "cell_type": "markdown",
      "source": [
        "# Train the model\n",
        "\n",
        "Now we have defined the model. For actual training, we need the following pieces:\n",
        "- Data\n",
        "- Loss/Target function\n",
        "- Optimizer"
      ],
      "metadata": {
        "id": "gXTs6X2kkXlv"
      }
    },
    {
      "cell_type": "code",
      "source": [
        "# Prepare data for a 2-class classification.\n",
        "data = tf.random.uniform([20, 28, 28, 3])\n",
        "label = tf.convert_to_tensor(np.random.randint(2, size=20))"
      ],
      "metadata": {
        "id": "4s-Qwy_zaPWv"
      },
      "execution_count": 11,
      "outputs": []
    },
    {
      "cell_type": "code",
      "source": [
        "# Let's use functional model defined above.\n",
        "model = functional_model"
      ],
      "metadata": {
        "id": "-21fQfuImGLo"
      },
      "execution_count": 12,
      "outputs": []
    },
    {
      "cell_type": "code",
      "source": [
        "model.compile(\n",
        "    loss=keras.losses.SparseCategoricalCrossentropy(),\n",
        "    optimizer=keras.optimizers.Adam(0.001),\n",
        "    metrics=[keras.metrics.SparseCategoricalAccuracy()],\n",
        ")"
      ],
      "metadata": {
        "id": "ViHsKZTseb3o"
      },
      "execution_count": 13,
      "outputs": []
    },
    {
      "cell_type": "code",
      "source": [
        "model.fit(\n",
        "    data,\n",
        "    label,\n",
        "    batch_size=5,\n",
        "    epochs=2,\n",
        ")"
      ],
      "metadata": {
        "colab": {
          "base_uri": "https://localhost:8080/"
        },
        "id": "6_C4RzLKewCT",
        "outputId": "04f4f0da-c3bf-4abd-88bc-88b5c4b17aa4"
      },
      "execution_count": 14,
      "outputs": [
        {
          "output_type": "stream",
          "name": "stdout",
          "text": [
            "Epoch 1/2\n",
            "4/4 [==============================] - 1s 9ms/step - loss: 0.7260 - sparse_categorical_accuracy: 0.5000\n",
            "Epoch 2/2\n",
            "4/4 [==============================] - 0s 6ms/step - loss: 0.6361 - sparse_categorical_accuracy: 0.6500\n"
          ]
        },
        {
          "output_type": "execute_result",
          "data": {
            "text/plain": [
              "<keras.callbacks.History at 0x7fed5ea512d0>"
            ]
          },
          "metadata": {},
          "execution_count": 14
        }
      ]
    },
    {
      "cell_type": "markdown",
      "source": [
        "# Eager mode and graph mode\n",
        "\n",
        "Debug in eager mode, put actual job in graph mode."
      ],
      "metadata": {
        "id": "d0D7V9h-oSqK"
      }
    },
    {
      "cell_type": "code",
      "source": [
        "# Eager mode\n",
        "print(model(data[0:1, ...]))\n",
        "\n",
        "# Graph mode\n",
        "print(model.predict(data[0:1, ...]))"
      ],
      "metadata": {
        "colab": {
          "base_uri": "https://localhost:8080/"
        },
        "id": "tSp5y8TzoIYv",
        "outputId": "5e0d28fb-7dad-4d39-8142-d71589decd5c"
      },
      "execution_count": 15,
      "outputs": [
        {
          "output_type": "stream",
          "name": "stdout",
          "text": [
            "tf.Tensor([[0.6383353  0.36166468]], shape=(1, 2), dtype=float32)\n",
            "1/1 [==============================] - 0s 98ms/step\n",
            "[[0.6383353  0.36166468]]\n"
          ]
        }
      ]
    },
    {
      "cell_type": "code",
      "source": [
        "@tf.function(jit_compile=True)\n",
        "def forward_pass(x):\n",
        "    outputs = model(x)\n",
        "    print(outputs)\n",
        "    return outputs\n",
        "\n",
        "print(forward_pass(data[0:1, ...]))"
      ],
      "metadata": {
        "colab": {
          "base_uri": "https://localhost:8080/"
        },
        "id": "ncHMuzdMopLW",
        "outputId": "a35e1b86-3217-49e1-a4bf-d1d92e033ec8"
      },
      "execution_count": 16,
      "outputs": [
        {
          "output_type": "stream",
          "name": "stdout",
          "text": [
            "Tensor(\"model/softmax_1/Softmax:0\", shape=(1, 2), dtype=float32)\n",
            "tf.Tensor([[0.6383352  0.36166477]], shape=(1, 2), dtype=float32)\n"
          ]
        }
      ]
    },
    {
      "cell_type": "code",
      "source": [
        "# You can also run `fit`, `predict` in eager mode.\n",
        "model.compile(\n",
        "    loss=keras.losses.SparseCategoricalCrossentropy(),\n",
        "    optimizer=keras.optimizers.Adam(0.001),\n",
        "    metrics=[keras.metrics.SparseCategoricalAccuracy()],\n",
        "    run_eagerly=True\n",
        ")\n",
        "\n",
        "# Run `predict` in eager mode by setting `run_eagerly` above.\n",
        "print(model.predict(data[0:1, ...]))"
      ],
      "metadata": {
        "id": "CQmAFyZjpbSX",
        "colab": {
          "base_uri": "https://localhost:8080/"
        },
        "outputId": "ae995875-d52a-48f6-9278-af2fa466b810"
      },
      "execution_count": 17,
      "outputs": [
        {
          "output_type": "stream",
          "name": "stdout",
          "text": [
            "1/1 [==============================] - 0s 25ms/step\n",
            "[[0.6383353  0.36166468]]\n"
          ]
        }
      ]
    },
    {
      "cell_type": "markdown",
      "source": [
        "# Write your custom training loop\n",
        "\n",
        "We encourage using `fit` for training/finetuning as much as possible, but it's still important to write you custom training loop. For example, if you want to debug the training loop, or have a better control over each step, you can use custom training loop."
      ],
      "metadata": {
        "id": "I4o_GH52o_4u"
      }
    },
    {
      "cell_type": "code",
      "source": [
        "train_data = tf.data.Dataset.from_tensor_slices((data, label))\n",
        "train_data = train_data.batch(5).cache().prefetch(tf.data.AUTOTUNE)"
      ],
      "metadata": {
        "id": "IlNRAxt_opWD"
      },
      "execution_count": 18,
      "outputs": []
    },
    {
      "cell_type": "code",
      "source": [
        "loss_fn = keras.losses.SparseCategoricalCrossentropy()\n",
        "optimizer = keras.optimizers.Adam(0.001)\n",
        "metric = keras.metrics.SparseCategoricalAccuracy()"
      ],
      "metadata": {
        "id": "4t6-A2c1szjv"
      },
      "execution_count": 19,
      "outputs": []
    },
    {
      "cell_type": "code",
      "source": [
        "@tf.function\n",
        "def train_step(data):\n",
        "    x, y = data\n",
        "    with tf.GradientTape() as tape:\n",
        "        outputs = model(x)\n",
        "        loss = loss_fn(y, outputs)\n",
        "\n",
        "    gradients = tape.gradient(loss, model.trainable_variables)\n",
        "    optimizer.apply_gradients(zip(gradients, model.trainable_variables))\n",
        "    metric.update_state(y, outputs)\n",
        "\n",
        "    return loss\n",
        "\n",
        "\n",
        "for i, data in enumerate(train_data):\n",
        "    loss = train_step(data)\n",
        "    print(f\"Batch {i}, loss: {loss:.3f}, accuracy: {metric.result():.3f}\")"
      ],
      "metadata": {
        "colab": {
          "base_uri": "https://localhost:8080/"
        },
        "id": "3dFK6kNDqGHs",
        "outputId": "3da6a117-0a7e-4acf-fb7b-201cee238ca2"
      },
      "execution_count": 20,
      "outputs": [
        {
          "output_type": "stream",
          "name": "stdout",
          "text": [
            "Batch 0, loss: 0.468, accuracy: 0.800\n",
            "Batch 1, loss: 0.753, accuracy: 0.700\n",
            "Batch 2, loss: 0.492, accuracy: 0.733\n",
            "Batch 3, loss: 0.794, accuracy: 0.650\n"
          ]
        }
      ]
    },
    {
      "cell_type": "markdown",
      "source": [
        "# Save your model."
      ],
      "metadata": {
        "id": "imJB2mZjvSxe"
      }
    },
    {
      "cell_type": "code",
      "source": [
        "# Save the weights.\n",
        "model.save_weights(\"weights\")"
      ],
      "metadata": {
        "id": "_nWYVCaZtpmn"
      },
      "execution_count": 21,
      "outputs": []
    },
    {
      "cell_type": "code",
      "source": [
        "sequential_model.load_weights(\"weights\")"
      ],
      "metadata": {
        "colab": {
          "base_uri": "https://localhost:8080/"
        },
        "id": "G_JuNbrkwLi_",
        "outputId": "a73879b9-497f-4fdc-b4d0-15eb2e646889"
      },
      "execution_count": 22,
      "outputs": [
        {
          "output_type": "stream",
          "name": "stderr",
          "text": [
            "WARNING:tensorflow:Inconsistent references when loading the checkpoint into this object graph. For example, in the saved checkpoint object, `model.layer.weight` and `model.layer_copy.weight` reference the same variable, while in the current object these are two different variables. The referenced variables are:(<keras.layers.convolutional.conv2d.Conv2D object at 0x7fed622238b0> and <keras.layers.pooling.max_pooling2d.MaxPooling2D object at 0x7fed62223730>).\n",
            "WARNING:tensorflow:Inconsistent references when loading the checkpoint into this object graph. For example, in the saved checkpoint object, `model.layer.weight` and `model.layer_copy.weight` reference the same variable, while in the current object these are two different variables. The referenced variables are:(<keras.layers.core.dense.Dense object at 0x7fed61934370> and <keras.layers.activation.softmax.Softmax object at 0x7fed619344c0>).\n"
          ]
        },
        {
          "output_type": "execute_result",
          "data": {
            "text/plain": [
              "<tensorflow.python.checkpoint.checkpoint.CheckpointLoadStatus at 0x7fed5df5ec50>"
            ]
          },
          "metadata": {},
          "execution_count": 22
        }
      ]
    },
    {
      "cell_type": "code",
      "source": [
        "tf.reduce_sum(sequential_model.get_layer(\"conv2d\").kernel - model.get_layer(\"conv2d_1\").kernel)"
      ],
      "metadata": {
        "colab": {
          "base_uri": "https://localhost:8080/"
        },
        "id": "tCakjIU8wbtt",
        "outputId": "ac5effa6-5373-473e-d372-4715f8723eab"
      },
      "execution_count": 25,
      "outputs": [
        {
          "output_type": "execute_result",
          "data": {
            "text/plain": [
              "<tf.Tensor: shape=(), dtype=float32, numpy=0.0>"
            ]
          },
          "metadata": {},
          "execution_count": 25
        }
      ]
    },
    {
      "cell_type": "markdown",
      "source": [
        "# Use callbacks to control your training\n",
        "\n",
        "`keras.callbacks` provides the ability to control your training loop. For example, you can use callbacks to save your checkpoints at a certain frequency."
      ],
      "metadata": {
        "id": "Gmz0O_YD12Qy"
      }
    },
    {
      "cell_type": "code",
      "source": [
        "!mkdir checkpoints"
      ],
      "metadata": {
        "id": "oQACYlRN2yz6"
      },
      "execution_count": 26,
      "outputs": []
    },
    {
      "cell_type": "code",
      "source": [
        "checkpoint_filepath = 'checkpoints/checkpoint'\n",
        "model_checkpoint_callback = keras.callbacks.ModelCheckpoint(\n",
        "    filepath=checkpoint_filepath,\n",
        "    save_weights_only=True,\n",
        "    monitor=\"loss\",\n",
        ")\n",
        "\n",
        "model.fit(\n",
        "    train_data,\n",
        "    batch_size=5,\n",
        "    epochs=3,\n",
        "    callbacks=[model_checkpoint_callback]\n",
        ")"
      ],
      "metadata": {
        "colab": {
          "base_uri": "https://localhost:8080/"
        },
        "id": "41dEvmFj2Ibi",
        "outputId": "cd0faf9c-2f9d-4ef3-81d5-4bc33db5d9e8"
      },
      "execution_count": 29,
      "outputs": [
        {
          "output_type": "stream",
          "name": "stdout",
          "text": [
            "Epoch 1/3\n",
            "4/4 [==============================] - 0s 43ms/step - loss: 0.5915 - sparse_categorical_accuracy: 0.6500\n",
            "Epoch 2/3\n",
            "4/4 [==============================] - 0s 82ms/step - loss: 0.5048 - sparse_categorical_accuracy: 0.8500\n",
            "Epoch 3/3\n",
            "4/4 [==============================] - 0s 65ms/step - loss: 0.4887 - sparse_categorical_accuracy: 0.8500\n"
          ]
        },
        {
          "output_type": "execute_result",
          "data": {
            "text/plain": [
              "<keras.callbacks.History at 0x7fed5e025ed0>"
            ]
          },
          "metadata": {},
          "execution_count": 29
        }
      ]
    }
  ]
}